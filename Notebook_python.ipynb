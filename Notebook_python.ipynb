{
  "nbformat": 4,
  "nbformat_minor": 0,
  "metadata": {
    "colab": {
      "provenance": [],
      "include_colab_link": true
    },
    "kernelspec": {
      "name": "python3",
      "display_name": "Python 3"
    },
    "language_info": {
      "name": "python"
    }
  },
  "cells": [
    {
      "cell_type": "markdown",
      "metadata": {
        "id": "view-in-github",
        "colab_type": "text"
      },
      "source": [
        "<a href=\"https://colab.research.google.com/github/askazera/SoulPython/blob/main/Notebook_python.ipynb\" target=\"_parent\"><img src=\"https://colab.research.google.com/assets/colab-badge.svg\" alt=\"Open In Colab\"/></a>"
      ]
    },
    {
      "cell_type": "markdown",
      "source": [
        "\n",
        "##**FUNDAMENTOS DE PYTHON**\n",
        "\n",
        "Escola SoulCode Academy\n",
        "\n",
        "Curso: Bootcamp Analista de Dados - AD2\n",
        "\n",
        "Período: Semana 4\n",
        "\n",
        "Professor: Franciane Rodrigues\n",
        "\n",
        "Aluno: Aska Victoria Pereira Moreno"
      ],
      "metadata": {
        "id": "CauiujGdC8xk"
      }
    },
    {
      "cell_type": "markdown",
      "source": [
        "* ***Lógica de programação:*** **bold text** é um conceito teórico que se refere à forma de pensar e abordar problemas de programação.\n",
        "\n",
        "* ***Algoritmo:*** é uma descrição abstrata de um processo ou solução que poderá ser executado por um computador;\n",
        "\n",
        "* ***Script:*** é um conjunto de instruções ou comandos escritos em uma linguagem de programação específica. Geralmente, os scripts são usados para automatizar tarefas ou para definir o comportamento de um programa ou sistema. Eles são frequentemente executados interpretando linha por linha, em vez de serem compilados em um programa executável separado.\n",
        "\n",
        "* ***Programa:*** é  um conjunto de instruções escritas em uma linguagem de programação específica, organizadas de forma lógica, para realizar uma tarefa ou resolver um problema específico. Ao contrário de um script, um programa é compilado ou interpretado antes da execução, resultando em um arquivo executável que pode ser executado diretamente em um sistema operacional."
      ],
      "metadata": {
        "id": "wiSQ4zpPF-B3"
      }
    },
    {
      "cell_type": "markdown",
      "source": [
        "###**Resumo**\n",
        "\n",
        "*   *Comentários*: são como notas que você deixa para que você ou outra pessoa possa ler e ajuda documentar o seu código.\n",
        "*   *Case sensitive:* O python é uma linguagem case sensitive, no qual difere letras maiúsculas e minúsculas\n",
        "*   *Comando print:* é uma função de saída utilizada em várias linguagens de\n",
        "programação para exibir mensagens ou valores na tela do computador.\n",
        "*   *\\n*: usado para criar quebras de linha em um texto\n",
        "*   Tipos de dados no Python mais usados são int, float, str, bool\n",
        "*   int e float: dados quantitativos\n",
        "*   str: dados categóricos, qualitativo"
      ],
      "metadata": {
        "id": "v4vMlGGvuDuC"
      }
    },
    {
      "cell_type": "markdown",
      "source": [
        "###**Comentários, tipos básico de dados, print**\n",
        "\n"
      ],
      "metadata": {
        "id": "2QyF7F39Ihme"
      }
    },
    {
      "cell_type": "code",
      "source": [
        "# COMENTÁRIO: os comentários são iniciados com uma #\n",
        "# toda vez que desejar comentar algo deverá abrir uma #\n",
        "# a # não permite quebra de linha"
      ],
      "metadata": {
        "id": "85lqJTMlObnQ"
      },
      "execution_count": null,
      "outputs": []
    },
    {
      "cell_type": "code",
      "source": [
        "\"\"\" As três aspas (também chamadas de doc string) são usadas para escrever\n",
        "textos maiores, já que usando a # ficamos mais limitados em apenas uma linha\n",
        "por conta da organização e quantiade de caractetes dentro dos limites\n",
        "\n",
        "\"\"\""
      ],
      "metadata": {
        "colab": {
          "base_uri": "https://localhost:8080/",
          "height": 70
        },
        "id": "V6I65ngQOy9i",
        "outputId": "f0e3e03d-9fff-4046-f7f1-59c7a0913654"
      },
      "execution_count": null,
      "outputs": [
        {
          "output_type": "execute_result",
          "data": {
            "text/plain": [
              "' As três aspas (também chamadas de doc string) são usadas para escrever \\ntextos maiores, já que usando a # ficamos mais limitados em apenas uma linha \\npor conta da organização e quantiade de caractetes dentro dos limites \\n\\n'"
            ],
            "application/vnd.google.colaboratory.intrinsic+json": {
              "type": "string"
            }
          },
          "metadata": {},
          "execution_count": 4
        }
      ]
    },
    {
      "cell_type": "code",
      "execution_count": null,
      "metadata": {
        "colab": {
          "base_uri": "https://localhost:8080/"
        },
        "outputId": "9e5d46f8-5e64-45c1-b29b-9bbf3304a94b",
        "id": "BW9lCQZpUXMn"
      },
      "outputs": [
        {
          "output_type": "stream",
          "name": "stdout",
          "text": [
            "Hello, World!\n",
            "O resultado da divisão dos números é: 0.12\n"
          ]
        }
      ],
      "source": [
        "# PRINT: Imprime um valor na tela, a fim de visualizar resultados e entradas\n",
        "\n",
        "print('Hello, World!')\n",
        "\n",
        "# Formatação de valores no print\n",
        "# using f' inside print\n",
        "\n",
        "'''O f'{} é usado para adicionar valor de uma variável em uma string, dentro das\n",
        "{} é possível formatar a saída desse valor se ele for um número, exemplo:\n",
        "\n",
        "{numero:.2f}, significa que o número sera impresso apenas com 2 números decimais,\n",
        "o número antes do f define quantas casas decimais o número terá\n",
        "\n",
        "'''\n",
        "\n",
        "n1 = 2\n",
        "n2 = 17\n",
        "divisao = n1/n2\n",
        "\n",
        "print(f'O resultado da divisão dos números é: {divisao:.2f}')\n",
        "\n"
      ]
    },
    {
      "cell_type": "code",
      "source": [
        "# Testando a função print com dados pessoais\n",
        "\n",
        "idade = 28 # variável quantitativa\n",
        "altura = 1.71 # variável quantitativa\n",
        "nome = 'Aska' # variável qualitativa\n",
        "sobrenome = 'Pereira' # variável qualitativa\n",
        "tem_filhos = False # variável qualitativa, booleana, binary\n",
        "\n",
        "print(\"Idade:\",28)\n",
        "print(\"Altura:\", 1.71)\n",
        "print(\"Nome:\", nome)\n",
        "print(\"Sobrenome:\", sobrenome)\n",
        "print(\"Tem filhos?\", tem_filhos)"
      ],
      "metadata": {
        "colab": {
          "base_uri": "https://localhost:8080/"
        },
        "id": "FrLyO0ReSYH3",
        "outputId": "90c19b84-531a-4538-d132-0eeb2fa0a348"
      },
      "execution_count": null,
      "outputs": [
        {
          "output_type": "stream",
          "name": "stdout",
          "text": [
            "Idade: 28\n",
            "Altura: 1.71\n",
            "Nome: Aska\n",
            "Sobrenome: Pereira Moreno\n",
            "Tem filhos? False\n"
          ]
        }
      ]
    },
    {
      "cell_type": "code",
      "source": [
        "# Tipos de variáveis (tipos básico)\n",
        "\n",
        "''' Tipos de varíaveis\n",
        "\n",
        "* INT: Números inteiros\n",
        "* FLOAT: Números decimais, reais\n",
        "* STRING(STR): Valores dentro de aspas('',\"\"), as strings podem ser letras,\n",
        "números e caracteres\n",
        "* Booleano: Declara se um valor é verdadeiro ou/e falso (True/Falso)\n",
        "\n",
        "'''"
      ],
      "metadata": {
        "id": "kuqbq5rtIJFg"
      },
      "execution_count": null,
      "outputs": []
    },
    {
      "cell_type": "markdown",
      "source": [
        "##**VARIÁVEIS**"
      ],
      "metadata": {
        "id": "OhPRLlqiZwqY"
      }
    },
    {
      "cell_type": "markdown",
      "source": [
        "### **Como declarar variáveis**\n",
        "\n",
        "*   *Snake Case:* estilo de escrita em que os espaços são substituidos por _, **exemplo**: email_primario\n",
        "*   *Camel Case:* estilo de escrita em que as palavras são escritas juntas, porém separadas pela inicial maiúscula de cada uma, **exemplo**: emailPrimário\n",
        "*   **O que não pode :** letras com acento, etilhas, espaços, caracteres especiais\n",
        "*   **Tipo :** as variáveis podem ser do tipo int (número inteiro), float (números decimais, reais), str (string, valores entre aspas) e booleanas (True or False)"
      ],
      "metadata": {
        "id": "34jAqHjewjfi"
      }
    },
    {
      "cell_type": "code",
      "source": [
        "# declarando variáveis\n",
        "\n",
        "\n",
        "idade = 28 # tipo int\n",
        "altura = 1.71 # tipo float\n",
        "nome = \"Aska\" # tipo string\n",
        "sobrenome = \"Pereira\" # tipo string\n",
        "filhos = False # booleano"
      ],
      "metadata": {
        "id": "XpqxFzVNaIM7"
      },
      "execution_count": null,
      "outputs": []
    },
    {
      "cell_type": "code",
      "source": [
        "# imprimindo as vriáveis em uma linha\n",
        "# separa-se as variáveis por vírgula\n",
        "\n",
        "print(idade,altura,nome,sobrenome,filhos)"
      ],
      "metadata": {
        "colab": {
          "base_uri": "https://localhost:8080/"
        },
        "id": "6Rl2FhKzbTVz",
        "outputId": "4afcbec0-0e30-41b2-f462-043982c73ad1"
      },
      "execution_count": null,
      "outputs": [
        {
          "output_type": "stream",
          "name": "stdout",
          "text": [
            "28 1.71 Aska Pereira False\n"
          ]
        }
      ]
    },
    {
      "cell_type": "code",
      "source": [
        "# TYPE: Comando para checar o tipo de dado da variável declarada\n",
        "\n",
        "print(type(idade))\n",
        "print(type(altura))\n",
        "print(type(nome))\n",
        "print(type(sobrenome))\n",
        "print(type(filhos))\n"
      ],
      "metadata": {
        "colab": {
          "base_uri": "https://localhost:8080/"
        },
        "id": "_3X17fkidjM4",
        "outputId": "3598a50b-fd50-4f60-c032-2744c3708d00"
      },
      "execution_count": null,
      "outputs": [
        {
          "output_type": "stream",
          "name": "stdout",
          "text": [
            "<class 'int'>\n",
            "<class 'float'>\n",
            "<class 'str'>\n",
            "<class 'str'>\n",
            "<class 'bool'>\n"
          ]
        }
      ]
    },
    {
      "cell_type": "markdown",
      "source": [
        "*Resumo*\n",
        "*  *Variáveis* permitem salvar valores na memória usando um nome que atribuímos\n",
        "* Declaramos um nome no lado esquerdo do operador igual (“=”), e no lado direito, atribuir o valor que queremos salvar para usar mais tarde.\n",
        "\n",
        "* Como ler: Declaramos a variável \"a\" ao valor do \"2\" do tipo int\n",
        "\n",
        "a = 2\n",
        "\n",
        "* Como ler: Declaramos a variável \"b\" ao valor do \"10.953\" do tipo float\n",
        "\n",
        "b = 10.953\n",
        "\n",
        "* Como ler: A variável \"a\" recebe valor 2 do tipo int\n",
        "\n",
        "a = 2\n",
        "\n",
        "* Como ler: A variável \"b\" recebe valor 10.953 do tipo float\n",
        "\n",
        "b = 9.953\n",
        "\n",
        "* É possível usar os dois comandos print e type juntos\n",
        "* Atenção: Número pode ser string\n",
        "\n",
        "*Regras para nomes de variáveis*\n",
        "* Deve começar com uma letra (maíuscula ou minúscula) ou subcrito(_).\n",
        "* Nunca pode começar com um número.\n",
        "* Pode conter letras maiúsculas, minúsculas, números e subscrito.\n",
        "* Não pode-se utilizar como parte do nome de uma variável:\n",
        "{ ( + - * / \\ ; . , ?\n",
        "* Letras maiúsculas e minúsculas são diferentes:\n",
        "casa = 4\n",
        "Casa = 4"
      ],
      "metadata": {
        "id": "xCHS8UoO3dO1"
      }
    },
    {
      "cell_type": "markdown",
      "source": [
        "### **Conversão de tipos de variáveis**\n",
        "\n",
        "\n",
        "- **Casting**: o processo de conversão de uma variável de um tipo para outro é chamado de casting\n"
      ],
      "metadata": {
        "id": "Y84L281E68n7"
      }
    },
    {
      "cell_type": "code",
      "source": [
        "# CONVERSAO DE INT PARA FLOAT (INT, FLOAT)\n",
        "\n",
        "num = 10\n",
        "print(type(num))\n",
        "\n",
        "f = float(num)\n",
        "print(type(f))\n"
      ],
      "metadata": {
        "colab": {
          "base_uri": "https://localhost:8080/"
        },
        "id": "BU_P2_B17sBd",
        "outputId": "a13e1ec5-a588-423e-e0f0-fcbbbac63f16"
      },
      "execution_count": null,
      "outputs": [
        {
          "output_type": "stream",
          "name": "stdout",
          "text": [
            "<class 'int'>\n",
            "<class 'float'>\n"
          ]
        }
      ]
    },
    {
      "cell_type": "code",
      "source": [
        "# CONVERSAO DE INT PARA STRING (INT, STR)\n",
        "\n",
        "num = 10\n",
        "print(type(num))\n",
        "\n",
        "f = str(num)\n",
        "print(type(f))"
      ],
      "metadata": {
        "colab": {
          "base_uri": "https://localhost:8080/"
        },
        "id": "BGDrHgwo9TJ1",
        "outputId": "85648075-90e1-4066-9b27-4dba348331e5"
      },
      "execution_count": null,
      "outputs": [
        {
          "output_type": "stream",
          "name": "stdout",
          "text": [
            "<class 'int'>\n",
            "<class 'str'>\n"
          ]
        }
      ]
    },
    {
      "cell_type": "code",
      "source": [
        "# COVERSAO DE FLOAT PARA INT(FLOAT, INT)\n",
        "\n",
        "num = 10.5\n",
        "print(type(num))\n",
        "\n",
        "f = int(num)\n",
        "print(type(f))"
      ],
      "metadata": {
        "colab": {
          "base_uri": "https://localhost:8080/"
        },
        "id": "SQmO08lo9hCt",
        "outputId": "4503cb8d-0849-484a-8a50-92897588edd2"
      },
      "execution_count": null,
      "outputs": [
        {
          "output_type": "stream",
          "name": "stdout",
          "text": [
            "<class 'float'>\n",
            "<class 'int'>\n"
          ]
        }
      ]
    },
    {
      "cell_type": "code",
      "source": [
        "# CONVERSAO DE FLOAT PARA STR\n",
        "\n",
        "num = 10.5\n",
        "print(type(num))\n",
        "\n",
        "f = str(num)\n",
        "print(type(f))"
      ],
      "metadata": {
        "colab": {
          "base_uri": "https://localhost:8080/"
        },
        "id": "fFCBy5GR_OBL",
        "outputId": "718dcf12-2d51-499d-f210-85c30b2935e8"
      },
      "execution_count": null,
      "outputs": [
        {
          "output_type": "stream",
          "name": "stdout",
          "text": [
            "<class 'float'>\n",
            "<class 'str'>\n"
          ]
        }
      ]
    },
    {
      "cell_type": "code",
      "source": [
        "# CONVERSAO DE STR PARA INT\n",
        "\n",
        "num = \"10\"\n",
        "print(type(num))\n",
        "\n",
        "f = int(num)\n",
        "print(type(f))"
      ],
      "metadata": {
        "colab": {
          "base_uri": "https://localhost:8080/"
        },
        "id": "OS1Ohn3h_70s",
        "outputId": "4731ae41-63ae-4950-a299-01cb1a002bc1"
      },
      "execution_count": null,
      "outputs": [
        {
          "output_type": "stream",
          "name": "stdout",
          "text": [
            "<class 'str'>\n",
            "<class 'int'>\n"
          ]
        }
      ]
    },
    {
      "cell_type": "code",
      "source": [
        "# CONVERSAO DE STR PARA FLOAT\n",
        "\n",
        "num = \"10\"\n",
        "print(type(num))\n",
        "\n",
        "f = float(num)\n",
        "print(type(f))"
      ],
      "metadata": {
        "colab": {
          "base_uri": "https://localhost:8080/"
        },
        "id": "zTUjeBoTAAd0",
        "outputId": "b094e47a-1145-4024-b26e-a498deee6fcb"
      },
      "execution_count": null,
      "outputs": [
        {
          "output_type": "stream",
          "name": "stdout",
          "text": [
            "<class 'str'>\n",
            "<class 'float'>\n"
          ]
        }
      ]
    },
    {
      "cell_type": "markdown",
      "source": [
        "##**OPERADORES**"
      ],
      "metadata": {
        "id": "vg6LmMmkKOw3"
      }
    },
    {
      "cell_type": "markdown",
      "source": [
        "### Operadores matemáticos (aritméticos)\n",
        "\n",
        "\n",
        "\n"
      ],
      "metadata": {
        "id": "w3Wsnxs1DlQj"
      }
    },
    {
      "cell_type": "markdown",
      "source": [
        "Os operadores matemáticos básicos, tais como: adição, subtração, multiplicação, divisão, exponenciação e radiciação podem ser feitos dentro do python"
      ],
      "metadata": {
        "id": "igqzlJoDQmlU"
      }
    },
    {
      "cell_type": "code",
      "source": [
        "# Adição (+), exemplo:\n",
        "\n",
        "n1 = 5.887\n",
        "n2 = 7.15\n",
        "soma = n1 + n2\n",
        "\n",
        "print(soma)\n",
        "print('A soma dos números é:', soma)\n",
        "print(f'A soma dos números é: {soma:.2f}')\n",
        "print(n1+n2)\n"
      ],
      "metadata": {
        "colab": {
          "base_uri": "https://localhost:8080/"
        },
        "id": "4gWhsTIAQxnJ",
        "outputId": "aacc1480-f52c-4211-eb69-83e82cace615"
      },
      "execution_count": null,
      "outputs": [
        {
          "output_type": "stream",
          "name": "stdout",
          "text": [
            "13.036999999999999\n",
            "A soma dos números é: 13.036999999999999\n",
            "A soma dos números é: 13.04\n",
            "13.036999999999999\n"
          ]
        }
      ]
    },
    {
      "cell_type": "code",
      "source": [
        "# Subtração (-), exemplo:\n",
        "\n",
        "n1 = 7.8\n",
        "n2 = 3.1\n",
        "sub = n1 - n2\n",
        "\n",
        "print(sub)\n",
        "print('A subtração dos números é:',round(sub))\n",
        "print(f'A subtração dos números é: {sub:.2f}')\n",
        "print(n1-n2)\n",
        "\n"
      ],
      "metadata": {
        "colab": {
          "base_uri": "https://localhost:8080/"
        },
        "id": "VHcekyTDTWcC",
        "outputId": "0d4bf2e1-b02c-4956-dfb9-0127b59addda"
      },
      "execution_count": null,
      "outputs": [
        {
          "output_type": "stream",
          "name": "stdout",
          "text": [
            "4.699999999999999\n",
            "A soma dos números é: 5\n",
            "A soma dos números é: 4.70\n",
            "4.699999999999999\n"
          ]
        }
      ]
    },
    {
      "cell_type": "code",
      "source": [
        "# Multiplicação (*), exemplo:\n",
        "\n",
        "n1 = 5.887\n",
        "n2 = 7.15\n",
        "mult = n1 * n2\n",
        "\n",
        "print(mult)\n",
        "print('A multiplicação dos números é:', mult)\n",
        "print(f'A multiplicação números é: {mult:.2f}')\n",
        "print(n1*n2)"
      ],
      "metadata": {
        "colab": {
          "base_uri": "https://localhost:8080/"
        },
        "id": "IFT6LVtAYVMz",
        "outputId": "802db104-6c21-4fbb-ee3f-c1ec34f24391"
      },
      "execution_count": null,
      "outputs": [
        {
          "output_type": "stream",
          "name": "stdout",
          "text": [
            "42.09205\n",
            "A soma dos números é: 42.09205\n",
            "A soma dos números é: 42.09\n",
            "42.09205\n"
          ]
        }
      ]
    },
    {
      "cell_type": "code",
      "source": [
        "# Divisão (/), exemplo:\n",
        "\n",
        "n1 = 5.887\n",
        "n2 = 7.15\n",
        "div = n1/n2\n",
        "\n",
        "print(div)\n",
        "print('A divisão dos números é:', div)\n",
        "print(f'A divisão dos números é: {div:.2f}')\n",
        "print(n1/n2)\n",
        "\n"
      ],
      "metadata": {
        "colab": {
          "base_uri": "https://localhost:8080/"
        },
        "id": "64REOaNtbW-U",
        "outputId": "f2237e56-ce29-43ca-e2e5-d8f0d5059018"
      },
      "execution_count": null,
      "outputs": [
        {
          "output_type": "stream",
          "name": "stdout",
          "text": [
            "0.8233566433566433\n",
            "A soma dos números é: 0.8233566433566433\n",
            "A soma dos números é: 0.82\n",
            "0.8233566433566433\n"
          ]
        }
      ]
    },
    {
      "cell_type": "code",
      "source": [
        "# Inteiro da divisao (//), exemplo:\n",
        "\n",
        "n1 = 10.5\n",
        "n2 = 2\n",
        "div_int = n1//n2\n",
        "\n",
        "print(div_int)\n",
        "print('O resultado inteiro da divisão é:', div_int)\n"
      ],
      "metadata": {
        "colab": {
          "base_uri": "https://localhost:8080/"
        },
        "id": "JBbd9Rvg6sxv",
        "outputId": "032c6eae-2a13-4901-f8fe-55208ffa8b5c"
      },
      "execution_count": null,
      "outputs": [
        {
          "output_type": "stream",
          "name": "stdout",
          "text": [
            "5.0\n",
            "O resultado inteiro da divisão é: 5.0\n"
          ]
        }
      ]
    },
    {
      "cell_type": "code",
      "source": [
        "# Resto da divisão (%), exemplo:\n",
        "\n",
        "n1 = 10\n",
        "n2 = 2\n",
        "rest_div = n1 % n2\n",
        "\n",
        "print(rest_div)\n",
        "print('o resto da divisão é:', rest_div)"
      ],
      "metadata": {
        "colab": {
          "base_uri": "https://localhost:8080/"
        },
        "id": "ea31LZtp8NBE",
        "outputId": "790441fc-6055-4766-e383-aae52fc16ae6"
      },
      "execution_count": null,
      "outputs": [
        {
          "output_type": "stream",
          "name": "stdout",
          "text": [
            "0\n",
            "o resto da divisão é: 0\n"
          ]
        }
      ]
    },
    {
      "cell_type": "code",
      "source": [
        "# Exponenciação (**), exemplo:\n",
        "\n",
        "n1 = 10\n",
        "\n",
        "exp = n1 ** 2 #10 elevado à 2\n",
        "\n",
        "print(exp)\n",
        "print('o resto da divisão é:', exp)"
      ],
      "metadata": {
        "colab": {
          "base_uri": "https://localhost:8080/"
        },
        "id": "pQcF0W_L9ZbL",
        "outputId": "4ea1ca54-4282-4e07-8aea-7937b61bff03"
      },
      "execution_count": null,
      "outputs": [
        {
          "output_type": "stream",
          "name": "stdout",
          "text": [
            "100\n",
            "o resto da divisão é: 100\n"
          ]
        }
      ]
    },
    {
      "cell_type": "markdown",
      "source": [
        "### Operadores de comparação (booleanos)"
      ],
      "metadata": {
        "id": "5ibmIbRAFIqj"
      }
    },
    {
      "cell_type": "code",
      "source": [
        "# Comparações que retornam:\n",
        "# True\n",
        "# False\n",
        "\n",
        "# sinal de comparação: == , compara se um valor é igual ao outro ou não\n",
        "\n",
        "# sinal de diferença: !=, compara se um valor é diferente do outro ou não\n",
        "\n",
        "# sinal de maior: >, verifica se um valor é maior que o outro ou não\n",
        "\n",
        "# sinal de menor: <, verifica se um valor é menor que o outro ou não\n",
        "\n",
        "# sinal de maior ou igual >=, verifica se um valor é maior ou igual a outro\n",
        "\n",
        "# sinal de menor ou igual <=, verifica se um valor é menor ou igual a outro\n",
        "\n",
        "'''considera-se que todo numero int tenha um .0 , ou seja, se comparássemos 3\n",
        "com 3.0 o resultrado seria True'''"
      ],
      "metadata": {
        "colab": {
          "base_uri": "https://localhost:8080/",
          "height": 35
        },
        "id": "Uu0jaZ-PFRr7",
        "outputId": "98d20a96-0a00-434f-f62c-f6a4ba52b789"
      },
      "execution_count": null,
      "outputs": [
        {
          "output_type": "execute_result",
          "data": {
            "text/plain": [
              "'considera-se que todo numero int tenha um .0 , ou seja, se comparássemos 3\\ncom 3.0 o resultrado seria True'"
            ],
            "application/vnd.google.colaboratory.intrinsic+json": {
              "type": "string"
            }
          },
          "metadata": {},
          "execution_count": 21
        }
      ]
    },
    {
      "cell_type": "markdown",
      "source": [
        "### Operadores de atribuição direta\n",
        "\n",
        "\n",
        "\n"
      ],
      "metadata": {
        "id": "29P41UArFxkz"
      }
    },
    {
      "cell_type": "code",
      "source": [
        "# Atribui um valor direto á uma variável\n",
        "# observação: o valor de uma variável pode mudar ao longo do código\n",
        "\n",
        "# atribuição direta (=), atribuí valor à uma variável\n",
        "\n",
        "numero = 3\n",
        "\n",
        "# atribuição de incremento (+=), faz soma de valores, muito usado em loopings\n",
        "numero = 3\n",
        "numero += 1\n",
        "\n",
        "# atribuição de decremento (+=), faz subtração de valores\n",
        "numero = 5\n",
        "numero -= 1\n",
        "\n",
        "# atribuição de multiplicação (*=), faz multiplicação de valores\n",
        "numero = 3\n",
        "numero *= 1\n",
        "\n",
        "# atribuição de divisao (/=), faz divisao de valores\n",
        "numero = 3\n",
        "numero /= 1\n",
        "\n",
        "# atribuição da parte inteira da divisao (//=), faz divisao de valores\n",
        "numero = 3\n",
        "numero //= 1\n",
        "\n",
        "# atribuição do resto da divisao (%=), faz divisao de valores\n",
        "numero = 3\n",
        "numero %= 1\n",
        "\n",
        "# atribuição de exponenciação (**=), faz exponenciação de valores\n",
        "numero = 3\n",
        "numero **= 1\n"
      ],
      "metadata": {
        "id": "jrbPgvPlFz10"
      },
      "execution_count": null,
      "outputs": []
    },
    {
      "cell_type": "markdown",
      "source": [
        "### Operadores lógicos\n"
      ],
      "metadata": {
        "id": "1G14SCZL3aJH"
      }
    },
    {
      "cell_type": "code",
      "source": [
        "# AND/& (traduzindo: e)\n",
        "\n",
        "# todas as comparações devem ser True para o resultado ser True\n",
        "\n",
        "x = 2 > 3 and 5 < 2\n",
        "\n",
        "print(x)\n",
        "\n",
        "# testando a comparação and , porém usando &\n",
        "\n",
        "y= (3 < 2) & (4 > 6) & (3 != 3) # é precisa usar o parentesis nesse caso do &\n",
        "\n",
        "print (y)\n",
        "\n",
        "# OR/| (traduzindo: ou)\n",
        "\n",
        "# se uma comparação for verdadeira ja retorna true\n",
        "\n",
        "z =  2 != 6 or 3 < 2\n",
        "\n",
        "print(z)\n",
        "\n",
        "# NOT: ele inverte o resultado das centenças anteriores\n",
        "\n",
        "# deve se atentar nos parenteses nesse caso\n",
        "\n",
        "# se era True vira False , e vice versa\n",
        "\n",
        "h = not(z)\n",
        "print(h)\n",
        "\n",
        "# abaixo o not infere em todos as comparações, por causa do parenteses\n",
        "i = (not((3 < 2) & (4 > 6) & (3 != 3)))\n",
        "print(i)\n",
        "\n",
        "# tomar cuidado com os parenteses\n",
        "# no caso abaixo o not infere apenas no primeiro parenteses e faz a comparação\n",
        "#com o segundo parenteses\n",
        "\n",
        "print(not(10 == 10) or (7 == 7))"
      ],
      "metadata": {
        "colab": {
          "base_uri": "https://localhost:8080/"
        },
        "id": "ukfsgqDz3ffp",
        "outputId": "cfcaa6ea-299b-4243-803b-b3f9b4b0ad8e"
      },
      "execution_count": null,
      "outputs": [
        {
          "output_type": "stream",
          "name": "stdout",
          "text": [
            "False\n",
            "False\n",
            "True\n",
            "False\n",
            "True\n",
            "True\n"
          ]
        }
      ]
    },
    {
      "cell_type": "markdown",
      "source": [
        "### Operadores de identidade\n",
        "\n"
      ],
      "metadata": {
        "id": "7EeyYN3I7sDD"
      }
    },
    {
      "cell_type": "code",
      "source": [
        "# IS: compara se um valor é igual a outro\n",
        "\n",
        "test1 = x == h\n",
        "\n",
        "test2 = x is h\n",
        "\n",
        "print(test2) #ou\n",
        "print(x is h)\n",
        "\n",
        "test3 = 3\n",
        "test4 = 3.0\n",
        "\n",
        "result = test3 is test4\n",
        "print(result)\n",
        "\n",
        "\n",
        "\n",
        "# IS NOT: verifica se um valor não é igual ao outro\n",
        "\n",
        "test5 = 4\n",
        "test6 = 'l'\n",
        "\n",
        "print(test5 is not test6)"
      ],
      "metadata": {
        "colab": {
          "base_uri": "https://localhost:8080/"
        },
        "id": "mTOUO0A68BfS",
        "outputId": "c46b1bd9-3b9c-42fc-808f-82de54e12819"
      },
      "execution_count": null,
      "outputs": [
        {
          "output_type": "stream",
          "name": "stdout",
          "text": [
            "True\n",
            "True\n",
            "False\n",
            "True\n"
          ]
        }
      ]
    },
    {
      "cell_type": "markdown",
      "source": [
        "### Operadores de associalçao bold text\n",
        "\n"
      ],
      "metadata": {
        "id": "N8J-sdTt8dj2"
      }
    },
    {
      "cell_type": "code",
      "source": [
        "# IN: verifica se um valor está dentro de outro\n",
        "\n",
        "lista = ['abacaxi', 'banana', 'maçã']\n",
        "\n",
        "test7 = 'abacaxi' in lista\n",
        "\n",
        "print(test7)\n",
        "\n",
        "nome = 'aska'\n",
        "\n",
        "result = 'a' in nome\n",
        "\n",
        "print(result)\n",
        "\n",
        "# NOT IN: verifica se um valor não está dentro de outro\n",
        "\n",
        "nome = 'yara'\n",
        "\n",
        "result2 = 'y' not in nome\n",
        "\n",
        "print(result2)"
      ],
      "metadata": {
        "colab": {
          "base_uri": "https://localhost:8080/"
        },
        "id": "4w7YNaZU9i2B",
        "outputId": "5116764c-07a7-41b3-c2fb-16337a3dec45"
      },
      "execution_count": null,
      "outputs": [
        {
          "output_type": "stream",
          "name": "stdout",
          "text": [
            "True\n",
            "True\n",
            "False\n"
          ]
        }
      ]
    },
    {
      "cell_type": "markdown",
      "source": [
        "### Entrada de valores\n"
      ],
      "metadata": {
        "id": "aRZJvR0R9rar"
      }
    },
    {
      "cell_type": "code",
      "source": [
        "# INPUT: entrada de valor a ser lido\n",
        "\n",
        "\n",
        "# tipando input (obs: por padrao a input ja é str)\n",
        "\n",
        "# Calculando IMC de uma pessoa\n",
        "\n",
        "nome = input('Digite seu nome:')\n",
        "\n",
        "altura = float(input('Digite sua altura:')) # altura é em formato decimal\n",
        "\n",
        "peso = int(input('Digite seu peso:'))# peso contem gramas, tbm poderia ser float\n",
        "\n",
        "IMC = peso / (altura)**2\n",
        "\n",
        "print(f'{nome}, seu IMC é {IMC:.1f}')\n",
        "\n"
      ],
      "metadata": {
        "colab": {
          "base_uri": "https://localhost:8080/"
        },
        "id": "rh_Z5ORx9-bp",
        "outputId": "6c30ca2c-0ae0-4a0f-fbba-708e69da3b5c"
      },
      "execution_count": null,
      "outputs": [
        {
          "output_type": "stream",
          "name": "stdout",
          "text": [
            "Digite seu nome:aska\n",
            "Digite sua altura:1.71\n",
            "Digite seu peso:53\n",
            "aska, seu IMC é 18.1\n"
          ]
        }
      ]
    },
    {
      "cell_type": "markdown",
      "source": [
        "# PYTHON BÁSICO - Strings\n"
      ],
      "metadata": {
        "id": "33HbNKaa-iWJ"
      }
    },
    {
      "cell_type": "markdown",
      "source": [
        "### Índice e fatiamento\n"
      ],
      "metadata": {
        "id": "coq2zEHp_wZm"
      }
    },
    {
      "cell_type": "code",
      "source": [
        "# ÍNDICE: encontrando um valor por posição (índice)\n",
        "# os caracteres em python são contados pela posição\n",
        "\n",
        "'''A contagem de posição em Python se inicia de 0 e termina com um a mais da\n",
        "contagem'''\n",
        "\n",
        "nome= 'Aska'\n",
        "\n",
        "print(nome[1])\n",
        "\n",
        "# SLICING (FATIAMENTO)\n",
        "# O fatiamento serve para selecionarmos apenas caracteres específicos\n",
        "\n",
        "\n",
        "\n",
        "fruta = 'abacaxi'\n",
        "print(fruta[1:]) # a partir do indice 1\n",
        "print(fruta[:]) # inicio ao fim\n",
        "print(fruta[:3]) # inicio ate o indice 3 (como o final é excludente ele pega um antes)\n",
        "print(fruta[1::2]) # do indice 1 pulando de 2 em 2, ate o final\n",
        "print(fruta[::-1]) # contando de trás pra frente\n",
        "print(fruta[-1]) # pego o ultimo da posição\n",
        "\n",
        "# LEN(): contando o tamanho de uma string (len())\n",
        "\n",
        "print(len(fruta))"
      ],
      "metadata": {
        "id": "1yjWXIZt_2-I"
      },
      "execution_count": null,
      "outputs": []
    },
    {
      "cell_type": "markdown",
      "source": [
        "### Métodos para strings\n"
      ],
      "metadata": {
        "id": "PVy00Q_0DEtZ"
      }
    },
    {
      "cell_type": "code",
      "source": [
        "# concatenação\n",
        "# a concatenação só é possível quando os dois valores sao strings\n",
        "\n",
        "nome = 'aska'\n",
        "idade= 28\n",
        "print('nome:'+ nome)\n",
        "\n",
        "# nao é possivel pra concatenar str com int\n",
        "\n",
        "# converter int em str, exemplo com CPF:\n",
        "cpf = 232435344\n",
        "cpf =str(cpf)\n",
        "print(type(cpf))\n",
        "\n",
        "\n",
        "# LEN(): tamanho de uma string\n",
        "\n",
        "cor = 'Amarelo'\n",
        "\n",
        "contando = len(cor)\n",
        "\n",
        "print(contando)"
      ],
      "metadata": {
        "colab": {
          "base_uri": "https://localhost:8080/"
        },
        "id": "F4rHqxpHDlfg",
        "outputId": "2706c65f-33ce-4557-8a89-379a6daef0bd"
      },
      "execution_count": null,
      "outputs": [
        {
          "output_type": "stream",
          "name": "stdout",
          "text": [
            "nome:aska\n",
            "<class 'str'>\n",
            "7\n"
          ]
        }
      ]
    },
    {
      "cell_type": "markdown",
      "source": [
        "### Métodos específicos para string\n"
      ],
      "metadata": {
        "id": "JY1UOXlwHqXB"
      }
    },
    {
      "cell_type": "code",
      "source": [
        "# CAPITALIZE , metodo que transforma a primeira letra de uma string em maiuscula\n",
        "nome= 'aska victoria'\n",
        "print(nome.capitalize())\n",
        "\n",
        "# CASEFOLD, método que deixa tudo em minuscuto\n",
        "nome = 'ASKA'\n",
        "print(nome.casefold())\n",
        "\n",
        "# COUNT, contar quantas vezes um caractere aparece numa string\n",
        "\n",
        "frase = 'abaddjbbaddef'\n",
        "\n",
        "print(frase.count('d'))\n",
        "\n",
        "# ENDSWITH, verifica se uma string termina com determinados caracteres\n",
        "\n",
        "frase = 'aska_vic@hotmail.com'\n",
        "\n",
        "print(frase.endswith('hotmail.com'))\n",
        "\n",
        "# ISALNUM, verifica se há somente numeros e letras ou só numeros ou só letras na str\n",
        "\n",
        "idade = '12k'\n",
        "print(idade.isalnum())\n",
        "\n",
        "# ISNUMERIC, verifica se há somente numeros na str\n",
        "\n",
        "idade = '12k'\n",
        "print(idade.isnumeric())\n",
        "\n",
        "# ISALPHA, verifica se há somente letras na str\n",
        "\n",
        "idade = '12k'\n",
        "print(idade.isalpha())\n",
        "\n",
        "# SPLIT, separa as strings em lista\n",
        "\n",
        "nome = 'aska victoria pereira moreno'\n",
        "print(nome.split())\n",
        "\n",
        "# STRIP, elimina todos os caracteres e espaços indesejaveis de uma string\n",
        "\n",
        "fruit = '    strawberry   '\n",
        "print(fruit.strip())\n",
        "\n",
        "# REPLACE, troca uma string por outra\n",
        "\n",
        "preco = '10,5'\n",
        "\n",
        "print(preco.replace(',','.'))\n",
        "\n",
        "# TITLE, coloca a primeira letra de cada palavra em maiusculo\n",
        "\n",
        "nome = 'aska victoria pereira moreno'\n",
        "\n",
        "print(nome.title())\n",
        "\n",
        "\n",
        "# UPPER, deixa tudo em maiusculo\n",
        "\n",
        "nome = 'aska victoria pereira moreno'\n",
        "\n",
        "print(nome.upper())\n",
        "\n",
        "# LOWER\n",
        "\n",
        "nome = 'aska victoria pereira moreno'\n",
        "\n",
        "print(nome.lower())\n"
      ],
      "metadata": {
        "colab": {
          "base_uri": "https://localhost:8080/"
        },
        "id": "IGIDpn6qHtNK",
        "outputId": "a21287dc-567b-4d23-b20c-2804885c5666"
      },
      "execution_count": null,
      "outputs": [
        {
          "output_type": "stream",
          "name": "stdout",
          "text": [
            "Aska victoria\n",
            "aska\n",
            "4\n",
            "True\n",
            "True\n",
            "False\n",
            "False\n",
            "['aska', 'victoria', 'pereira', 'moreno']\n",
            "strawberry\n",
            "10.5\n",
            "Aska Victoria Pereira Moreno\n",
            "ASKA VICTORIA PEREIRA MORENO\n",
            "aska victoria pereira moreno\n"
          ]
        }
      ]
    },
    {
      "cell_type": "markdown",
      "source": [
        "# CONDICIONAIS\n"
      ],
      "metadata": {
        "id": "7mK2OXyGIZtO"
      }
    },
    {
      "cell_type": "markdown",
      "source": [
        "### IF, ELIF, ELSE\n",
        "\n",
        "- if: A instrução \"if\" é usada para executar um bloco de código se uma determinada condição for verdadeira.\n",
        "\n",
        "- elif: é uma abreviação de \"else if\" e permite testar múltiplas condições em sequência. Ela é usada quando há mais de duas possibilidades a serem consideradas.\n",
        "\n",
        "- else: a instrução \"else\" é usada em conjunto com a instrução if ou if e elif , e especifica o bloco de código a ser executado se a condição do 'if' ou 'elif' não for verdadeira.\n"
      ],
      "metadata": {
        "id": "Opvo6TocI6tU"
      }
    },
    {
      "cell_type": "code",
      "source": [
        "# IF, exemplo:\n",
        "\n",
        "idade = 19\n",
        "if idade >= 18:\n",
        "    print('Você é maior de idade.')"
      ],
      "metadata": {
        "colab": {
          "base_uri": "https://localhost:8080/"
        },
        "id": "M9i9JSzdLeyU",
        "outputId": "fcf799a2-b767-4315-af83-2d0f1f5b8bf3"
      },
      "execution_count": null,
      "outputs": [
        {
          "output_type": "stream",
          "name": "stdout",
          "text": [
            "Você é maior de idade.\n"
          ]
        }
      ]
    },
    {
      "cell_type": "code",
      "source": [
        "# ELSE, exemplo:\n",
        "\n",
        "# o else pode ser usado sem o elif, se houver apenas duas condiçoes por exemplo\n",
        "\n",
        "idade = int(input('Digite sua idade: '))\n",
        "\n",
        "if idade >= 18:\n",
        "    print('Você é maior de idade.')\n",
        "else:\n",
        "    print('Você é menor de idade.')\n",
        "\n",
        "\"\"\"\n",
        "if condição:\n",
        "    # bloco de código a ser executado se a condição for verdadeira\n",
        "else:\n",
        "    # bloco de código a ser executado se a condição nao for verdadeira\n",
        "\"\"\"\n",
        "\n",
        "# ELIF, exemplo:\n",
        "\n",
        "# o elif é muito usado quando há três ou mais condições\n",
        "\n",
        "numero = float(input(\"Digite um número: \"))\n",
        "\n",
        "if numero == 0:\n",
        "    print(\"O número digitado é zero.\")\n",
        "elif numero > 0:\n",
        "    print(\"O número digitado é positivo.\")\n",
        "else:\n",
        "    print(\"O número digitado é negativo.\")\n"
      ],
      "metadata": {
        "id": "9dzJm6PsMLKo"
      },
      "execution_count": null,
      "outputs": []
    },
    {
      "cell_type": "markdown",
      "source": [
        "# ESTRUTURA DE DADOS EM PYTHON\n"
      ],
      "metadata": {
        "id": "nIQ2nsjtBb2G"
      }
    },
    {
      "cell_type": "markdown",
      "source": [
        "### Lista\n",
        "\n",
        "- É uma estrutura que pode armazenar diversos valores sobre um determinado"
      ],
      "metadata": {
        "id": "PJbXgs0iBEse"
      }
    },
    {
      "cell_type": "code",
      "source": [
        "# listas são iteráveis\n",
        "# objetos iteráveis: é um valor no quual eu posso manipular e percorrer\n",
        "\n",
        "lista = [] # lista vazia\n",
        "\n",
        "# lista homogênea: contém valores do mesmo tipo\n",
        "\n",
        "nomes = ['Ana', 'Bruno', 'Maria', 'Joana', 'Mateo'] # lista de strings\n",
        "\n",
        "peso = [55, 70, 48, 50, 30] # lista de tipo int\n",
        "\n",
        "altura = [1.71, 1.80, 1.65, 1.50, 1.30] # lista de tipo float\n",
        "\n",
        "\n",
        "\n",
        "# SLICING (fatiamento) de lista\n",
        "\n",
        "print(peso[:]) # lista do início ao fim\n",
        "print(peso[::-1]) # de trás pra frente\n",
        "print(nomes[1:]) # pego no indice 1 ate o fim\n",
        "print(altura[::2]) # do inicio ao fim pulando em intervalors de 2\n",
        "print(peso[:-1])\n",
        "print(peso[-1])\n",
        "\n",
        "\n",
        "\n",
        "# INDEX(): é um método que retorna o índice do valor\n",
        "# passa o valor por argumento\n",
        "\n",
        "_id = nomes.index('Joana') # retorna o índice de morango na lista\n",
        "print(_id)\n",
        "\n",
        "# podemos inserir um indice específico para que a busca seja feita\n",
        "# se não achar o valor, é apresentado um erro\n",
        "\n",
        "#lista_de_compras.index('morango', 1, 3) # irá procurar o valor a partir do indice 1 até o índice 3\n",
        "\n",
        "print(f'{(peso[_id]/altura[_id]**2):.2f}')\n",
        "\n",
        "\n",
        "\n",
        "# APPEND():adiciona elementos em uma lista, vazia ou não\n",
        "# muito importante no uso com loopings\n",
        "\n",
        "\n",
        "lista= []\n",
        "\n",
        "\n",
        "\n",
        "lista.append(18) # adiciona um valor á lista\n",
        "\n",
        "print(lista)\n",
        "\n",
        "lista.append(28) # cada vez que eu coloco um valor no append, é inserido no final da lista\n",
        "\n",
        "print(lista)\n",
        "\n",
        "# é possível inserir um input dentro no appebd\n",
        "\n",
        "\n",
        "\n",
        "#INSERT: insere um elemento em uma posição, sem substituir valores já existentes\n",
        "\n",
        "lista.insert(0,'aska')\n",
        "\n",
        "print(lista)\n",
        "\n",
        "\n",
        "\n",
        "# REMOVE: remove um item específico da lista, pelo seu nome\n",
        "\n",
        "thislist = [\"apple\", \"banana\", \"cherry\"]\n",
        "thislist.remove(\"banana\")\n",
        "print(thislist)\n",
        "\n",
        "\n",
        "\n",
        "# POP: remove um item específico da lista por índice\n",
        "# caso nao dê uma posição de argumento, o pop exclui por padrão o útlimo elemento\n",
        "\n",
        "fruits = ['apple', 'banana', 'cherry']\n",
        "fruits.pop(1)\n",
        "\n",
        "\n"
      ],
      "metadata": {
        "colab": {
          "base_uri": "https://localhost:8080/",
          "height": 244
        },
        "id": "TFijG7jBBrXN",
        "outputId": "888528b8-ffba-4e8a-9ee9-68263f5b202c"
      },
      "execution_count": null,
      "outputs": [
        {
          "output_type": "stream",
          "name": "stdout",
          "text": [
            "[55, 70, 48, 50, 30]\n",
            "[30, 50, 48, 70, 55]\n",
            "['Bruno', 'Maria', 'Joana', 'Mateo']\n",
            "[1.71, 1.65, 1.3]\n",
            "[55, 70, 48, 50]\n",
            "30\n",
            "3\n",
            "22.22\n",
            "[18]\n",
            "[18, 28]\n",
            "['aska', 18, 28]\n",
            "['apple', 'cherry']\n"
          ]
        },
        {
          "output_type": "execute_result",
          "data": {
            "text/plain": [
              "'banana'"
            ],
            "application/vnd.google.colaboratory.intrinsic+json": {
              "type": "string"
            }
          },
          "metadata": {},
          "execution_count": 1
        }
      ]
    },
    {
      "cell_type": "markdown",
      "source": [
        "# ESTRUTURAS DE REPETÇÃO (LOOPINGS)\n",
        "\n",
        "- percorre valores iteráveis (string, lista, tupla, etc)\n",
        "- enumerate\n",
        "- range()"
      ],
      "metadata": {
        "id": "6pIL6Q9QdNFF"
      }
    },
    {
      "cell_type": "markdown",
      "source": [
        "### FOR\n",
        "\n",
        "- Um loop for é usado para iterar sobre uma sequência (que pode ser uma lista, uma tupla, um dicionário, um conjunto ou uma string).\n",
        "\n",
        "Com o loop for podemos executar um conjunto de instruções, uma vez para cada item em uma lista, tupla, conjunto etc.\n",
        "\n",
        "\n"
      ],
      "metadata": {
        "id": "uAe3Hx-udU92"
      }
    },
    {
      "cell_type": "code",
      "source": [
        "# Exemplo 1\n",
        "\n",
        "frutas = [\"abacate\", \"banana\", \"maçã\"]\n",
        "for i in frutas: # percorre cada indice da lista  frutas\n",
        "  print(i)       # retorna cada item\n",
        "\n",
        "\n",
        "# Exemplo 2\n",
        "\n",
        "for i in \"banana\": # percorre cada letra de uma string\n",
        "  print(i)\n",
        "\n",
        "# Exemplo 3 (BREAK)\n",
        "\n",
        "frutas = [\"abacate\", \"banana\", \"maçã\"]\n",
        "for x in frutas:\n",
        "  print(x)\n",
        "  if x == \"banana\": # quando o iterador chegar na str banana o looping vai parar com o break\n",
        "    break # o break para a execução do looping\n",
        "\n",
        "#Exemplo 4 (RANGE)\n",
        "\n",
        "for x in range(6): # para cada indice em uma contagem de 6 números\n",
        "  print(x)\n",
        "else: # após terminar a contagem de 6 números\n",
        "  print(\"Finally finished!\\n\")\n",
        "\n",
        "# Loops aninhados (loop dentro de loop)\n",
        "\n",
        "cores= [\"vermelho\", \"laranjado\", \"rosa\"]\n",
        "frutas = [\"maçã\", \"banana\", \"cereja\"]\n",
        "\n",
        "for ite in cores:\n",
        "  for i in frutas:\n",
        "    print(ite, i)"
      ],
      "metadata": {
        "colab": {
          "base_uri": "https://localhost:8080/"
        },
        "id": "ByGK_XuxrQVE",
        "outputId": "d318b42a-1979-4d5f-aca2-4b6a427b67c8"
      },
      "execution_count": null,
      "outputs": [
        {
          "output_type": "stream",
          "name": "stdout",
          "text": [
            "abacate\n",
            "banana\n",
            "maçã\n",
            "b\n",
            "a\n",
            "n\n",
            "a\n",
            "n\n",
            "a\n",
            "abacate\n",
            "banana\n",
            "0\n",
            "1\n",
            "2\n",
            "3\n",
            "4\n",
            "5\n",
            "Finally finished!\n",
            "\n",
            "vermelho maçã\n",
            "vermelho banana\n",
            "vermelho cereja\n",
            "laranjado maçã\n",
            "laranjado banana\n",
            "laranjado cereja\n",
            "rosa maçã\n",
            "rosa banana\n",
            "rosa cereja\n"
          ]
        }
      ]
    },
    {
      "cell_type": "markdown",
      "source": [
        "### WHILE\n",
        "\n",
        "- Com o loop while, podemos executar um conjunto de instruções, desde que uma condição seja verdadeira.\n"
      ],
      "metadata": {
        "id": "qEDNDg2TGctf"
      }
    },
    {
      "cell_type": "code",
      "source": [
        "# Exempli 1\n",
        "'''faça um script que recebe do usuário cinco números inteiros, armazene os\n",
        "números recebidos em uma lista\n",
        "'''\n",
        "\n",
        "\n",
        "cont = 0 # criação de uma variavel a fim de contar o número de ocorrências do loop\n",
        "\n",
        "l = []\n",
        "\n",
        "while cont < 5:\n",
        "    nu = int(input('Digite um numero inteiro: '))\n",
        "    l.append(nu)\n",
        "    soma = sum(l)\n",
        "    cont += 1 # cada vez que esso looping é executado ele conta +1 ate atingir 5 números\n",
        "\n",
        "print(soma)\n",
        "\n",
        "\n",
        "''' O loop while requer que as variáveis relevantes estejam prontas, neste\n",
        "exemplo precisamos definir uma variável de indexação, i, que definimos como 1.'''\n",
        "\n",
        "\n",
        "i = 1  # contaor uniciando do 1\n",
        "while i < 6:\n",
        "  print(i)\n",
        "  if i == 3:\n",
        "    break\n",
        "  i += 1\n",
        "\n",
        "# BREAK: Com a instrução break podemos parar o loop mesmo se a condição while for verdadeira:\n",
        "\n",
        "# EXEMPLO COM ELSE\n",
        "\n",
        "i = 1\n",
        "while i < 6:\n",
        "  print(i)\n",
        "  i += 1\n",
        "else:\n",
        "  print(\"I não é mais inferior 6\")\n"
      ],
      "metadata": {
        "colab": {
          "base_uri": "https://localhost:8080/"
        },
        "id": "wvZa9387LDuw",
        "outputId": "d6292c2a-4017-4924-e5e8-a990a964ff19"
      },
      "execution_count": null,
      "outputs": [
        {
          "output_type": "stream",
          "name": "stdout",
          "text": [
            "Digite um numero inteiro: 3\n",
            "Digite um numero inteiro: 6\n",
            "Digite um numero inteiro: 5\n",
            "Digite um numero inteiro: 1\n",
            "Digite um numero inteiro: 5\n",
            "20\n"
          ]
        }
      ]
    },
    {
      "cell_type": "code",
      "source": [
        "'''  Faça um script que receba do usuário n números inteiros, armazene os números recebidos\n",
        "a cada momento em que forem recebidos em uma lista e no final exiba a soma desses valores.\n",
        "Considere que o usuário deverá informar apenas 1 número inteiro por caixa de diálogo'''\n",
        "\n",
        "cont = 0 #contador para contar o laço while\n",
        "\n",
        "l = []\n",
        "\n",
        "nu = int(input('Digite a quantidade de numeros desejados: '))\n",
        "\n",
        "while cont < nu: # enquanto a contagem for menor do que o número escolhido (nu)\n",
        "    try:\n",
        "        l.append(int(input(f'Informe o {cont+1}° núemro da lista '))) # inserimos cont+1 para mostrar a ordem do número\n",
        "        cont += 1\n",
        "    except:\n",
        "        pass\n",
        "        print('nao')\n",
        "\n",
        "\n",
        "print(f'A soma dos números é {sum(l)}')"
      ],
      "metadata": {
        "colab": {
          "base_uri": "https://localhost:8080/"
        },
        "id": "BWDd6C-bYtMd",
        "outputId": "6a37e30b-859a-4c53-d329-e30a34ff3c8e"
      },
      "execution_count": null,
      "outputs": [
        {
          "output_type": "stream",
          "name": "stdout",
          "text": [
            "Digite a quantidade de numeros desejados: 2\n",
            "Informe o 1° núemro da lista 1\n",
            "Informe o 2° núemro da lista a\n",
            "nao\n",
            "Informe o 2° núemro da lista 3\n",
            "A soma dos números é 4\n"
          ]
        }
      ]
    },
    {
      "cell_type": "code",
      "source": [
        "cont = 0\n",
        "while True:\n",
        "    try:\n",
        "        nu = int(input('Digite a quantidade de numeros desejados: ')) # inserimos cont+1 para mostrar a ordem do número\n",
        "        break\n",
        "    except:\n",
        "        pass\n",
        "        print('Digite um número inteiro válido!')\n",
        "l = []\n",
        "\n",
        "while cont < nu: # enquanto a contagem for menor do que o número escolhido (nu)\n",
        "    try:\n",
        "        l.append(int(input(f'Informe o {cont+1}° núemro da lista '))) # inserimos cont+1 para mostrar a ordem do número\n",
        "        cont += 1\n",
        "    except:\n",
        "        pass\n",
        "        print('Digite um úmero inteiro válido')\n",
        "\n",
        "\n",
        "print(f'A soma dos números é {sum(l)}')\n",
        "\n",
        "\n"
      ],
      "metadata": {
        "colab": {
          "base_uri": "https://localhost:8080/"
        },
        "id": "RRLHri_O1HYY",
        "outputId": "28478ade-47a2-4273-b37e-723f2ab6ab90"
      },
      "execution_count": null,
      "outputs": [
        {
          "output_type": "stream",
          "name": "stdout",
          "text": [
            "Digite a quantidade de numeros desejados: 3\n",
            "Informe o 1° núemro da lista a\n",
            "Digite um úmero inteiro válido\n",
            "Informe o 1° núemro da lista 1\n",
            "Informe o 2° núemro da lista 3\n",
            "Informe o 3° núemro da lista e\n",
            "Digite um úmero inteiro válido\n",
            "Informe o 3° núemro da lista 6\n",
            "A soma dos números é 10\n"
          ]
        }
      ]
    },
    {
      "cell_type": "code",
      "source": [
        "\"\"\"Faça um programa que receba do usuário n números inteiros e os insira na lista\n",
        ", somente se o número for ímpar e encerre o programa quando a lista tiver 5 números\n",
        "ímpares \"\"\"\n",
        "\n",
        "\n",
        "l_=[]\n",
        "\n",
        "while len(l_) < 5:\n",
        "    n_= int(input('Insira um número inteiros:'))\n",
        "    if n_ % 2 != 0:\n",
        "        l_.append(n_)\n",
        "    else:\n",
        "        pass\n",
        "print(l_)"
      ],
      "metadata": {
        "colab": {
          "base_uri": "https://localhost:8080/"
        },
        "id": "qKYmOI43iyJj",
        "outputId": "ef24bc0a-6221-468c-8e74-9d78863134b1"
      },
      "execution_count": null,
      "outputs": [
        {
          "output_type": "stream",
          "name": "stdout",
          "text": [
            "Insira um número inteiros:1\n",
            "Insira um número inteiros:1\n",
            "Insira um número inteiros:1\n",
            "Insira um número inteiros:1\n",
            "Insira um número inteiros:1\n",
            "[1, 1, 1, 1, 1]\n"
          ]
        }
      ]
    },
    {
      "cell_type": "markdown",
      "source": [
        "# TRATAMENTO DE ERROS\n",
        "\n",
        "- Try:\n",
        "- Except:\n"
      ],
      "metadata": {
        "id": "aiLgSdrIJP_L"
      }
    },
    {
      "cell_type": "markdown",
      "source": [
        "# KEYWORDS (PALAVRAS CHAVE)\n",
        "\n",
        "- Palavras reservadas que não podem ser usadas como nome de variável, nomes de função e etc.\n",
        "- São palavras reservadas para uma ação específica em python"
      ],
      "metadata": {
        "id": "5T8Q_9XJGrex"
      }
    },
    {
      "cell_type": "code",
      "source": [
        "# PASS: Retorna valor nulo, não apresentando valor algum quando usado\n",
        "\n",
        "'''\n",
        "evita erro caso nao haja código escrito\n",
        "\n",
        "# muito usado em loops, funções, condicionais e classes.\n",
        "\n",
        "# pode ser usado como um placeholder para um futuro código\n",
        "\n",
        "'''\n",
        "\n",
        "# DEF: Usado apenas para criar funções em python"
      ],
      "metadata": {
        "id": "wRUhQNehHD29"
      },
      "execution_count": null,
      "outputs": []
    },
    {
      "cell_type": "markdown",
      "source": [
        "# FUNÇÕES\n",
        "\n",
        "- Uma função é um bloco de código que só é executado quando é chamado.\n",
        "\n",
        "- Você pode passar dados, conhecidos como parâmetros, para uma função.\n",
        "\n",
        "- Uma função pode retornar dados como resultado.\n",
        "\n",
        "- Em Python, uma função é definida usando a palavra-chave def:\n",
        "\n",
        "\n"
      ],
      "metadata": {
        "id": "H5-Qdz4PwGJh"
      }
    },
    {
      "cell_type": "code",
      "source": [
        "# Criando uma função\n",
        "\n",
        "def minha_funcao():\n",
        "  print(\"Hello from a function\")\n",
        "\n",
        "# Para chamar uma função, use o nome da função seguido de parênteses\n",
        "\n",
        "minha_funcao() # após criada a função deve ser chamada, para que possa ser executada\n",
        "\n",
        "# Argumentos\n",
        "\n",
        "'''Os argumentos são especificados após o nome da função, dentro dos parênteses.\n",
        "Você pode adicionar quantos argumentos quiser, basta separá-los com uma vírgula.\n",
        "'''\n",
        "\n",
        "def minha_funcao(nome):  # o argumento passado sera um nome que desejar\n",
        "  print(nome)\n",
        "\n",
        "# chamando a função e inserindo um nome escolhido como arfumento\n",
        "minha_funcao(\"Emil\")\n",
        "minha_funcao(\"Tobias\")\n",
        "minha_funcao(\"Linus\")\n",
        "\n",
        "''' Por padrão, uma função deve ser chamada com o número correto de argumentos.\n",
        "O que significa que, se sua função espera 2 argumentos, você deve chamar a\n",
        "função com 2 argumentos, nem mais nem menos.'''\n",
        "\n",
        "#Esta função espera 2 argumentos e obtém 2 argumentos:\n",
        "\n",
        "def minha_funcao(nome, sobrenome):\n",
        "  print(nome, sobrenome)\n",
        "\n",
        "my_function('Camila', 'Silva' )\n"
      ],
      "metadata": {
        "id": "fjmkBvl3xDL1"
      },
      "execution_count": null,
      "outputs": []
    },
    {
      "cell_type": "markdown",
      "source": [
        "# EXERCÍCIOS\n",
        "\n",
        "1. Faça um algoritmo que leia um número inteiro e diga se ele é maior, menor ou igual a 10;\n",
        "2. Faça um algoritmo que leia dois números inteiros e apresente na tela o maior deles ou se eles são iguais;\n",
        "3. Crie um algoritmo que leia um número e diga se ele está no intervalo fechado entre 25 e 200;\n",
        "4. Crie um algoritmo que leia um número e informe na tela se o mesmo é positivo. Caso seja, mostre o número na tela;\n",
        "5. Crie um algoritmo que leia um número e informe se ele é divisível por 7.\n",
        "6. Crie um algoritmo que leia um número e diga se ele é par ou ímpar.\n",
        "7. Escreva um programa em Python que solicite ao usuário que digite uma letra. Em seguida, verifique se a letra digitada é uma vogal ou não.\n",
        "8. Escreva um programa que solicite ao usuário três notas de um aluno e calcule a média. Em seguida, exiba a média e uma mensagem informando se o aluno foi aprovado (média maior ou igual a 7) ou reprovado.\n",
        "9. Escreva um programa que solicite ao usuário os comprimentos dos três lados de um triângulo. Em seguida, exiba uma mensagem informando se o triângulo é equilátero (todos os lados iguais), isósceles (dois lados iguais) ou escaleno (todos os lados diferentes).\n",
        "10.  Escreva um programa que solicite ao usuário sua idade e exiba uma mensagem informando em qual faixa etária ele se encontra: criança (0-12 anos), adolescente (13-17 anos), adulto (18-59 anos) ou idoso (60 anos ou mais).\n"
      ],
      "metadata": {
        "id": "7WtLiwJRKv0e"
      }
    },
    {
      "cell_type": "code",
      "source": [
        "\"\"\"\n",
        "EXERCICIO. 01\n",
        "Faça um algoritmo que leia um número inteiro e diga se ele é maior, menor ou\n",
        "igual a 10;\n",
        "\"\"\"\n",
        "\n",
        "# recebe e guarda o valor em tipo int\n",
        "numero = int(input('Digite um número inteiro: '))\n",
        "\n",
        "if numero == 10:   # verifica se  o número é igual a 10\n",
        "    print(f'O número {numero} é igual a 10.')\n",
        "elif numero > 10:  # verifica se o número é maior que 10\n",
        "    print(f'O número {numero} é maior que 10.')\n",
        "else:  # se nenhuma condição anterior for atendida\n",
        "    print(f'O número {numero} é menor que 10.')"
      ],
      "metadata": {
        "id": "TU48W1dhQNze"
      },
      "execution_count": null,
      "outputs": []
    },
    {
      "cell_type": "code",
      "source": [
        "\"\"\"\n",
        "EXERCICIO. 02\n",
        "Faça um algoritmo que leia dois números inteiros e apresente na tela o maior\n",
        "deles ou se eles são iguais;\n",
        "\"\"\"\n",
        "\n",
        "num1 = int(input('Informe um número inteiro: ')) # Coleta e guarda o valor informado\n",
        "num2 = int(input('Informe outro número inteiro: '))  # Coleta e guarda o valor informado\n",
        "\n",
        "if num1 == num2: # Primeira condicional, verifica se  o num1 é igual ao num2\n",
        "    print(f'Os números {num1} e {num2} são iguais.')\n",
        "elif num1 > num2: # Segunda condicional, verifica se  o num1 é maior ao num2\n",
        "    print(f'O maior número informado é: {num1}.')\n",
        "else: # terceira condicional, retorna a última condicional possível.\n",
        "    print(f'O maior número informado é: {num2}.')\n"
      ],
      "metadata": {
        "colab": {
          "base_uri": "https://localhost:8080/"
        },
        "id": "OMdlNjqLQVzr",
        "outputId": "d8cea9e2-d8fb-465f-9ce1-94a5e8ffbc37"
      },
      "execution_count": null,
      "outputs": [
        {
          "output_type": "stream",
          "name": "stdout",
          "text": [
            "Informe um número inteiro: 2\n",
            "Informe outro número inteiro: 1\n",
            "O maior número informado é: 2.\n"
          ]
        }
      ]
    },
    {
      "cell_type": "code",
      "source": [
        "\"\"\"\n",
        "EX. 03\n",
        "Crie um algoritmo que leia um número e diga se ele está no intervalo fechado entre 25 e 200;\n",
        "\"\"\"\n",
        "\n",
        "num3 = float(input('Digite um número: ')) # Coleta e guarda o valor informado\n",
        "\n",
        "if num3 >= 25 and num3 <=200:  # verifica se o numero esta no intervalo de 25 a 200\n",
        "    print(f'O número {num3} está no intervalo de 25 e 200.')\n",
        "else:\n",
        "    print(f'O número {num3} não se encontra no intervalo de 25 e 200.')"
      ],
      "metadata": {
        "id": "9gXW-l7URNRJ"
      },
      "execution_count": null,
      "outputs": []
    },
    {
      "cell_type": "code",
      "source": [
        "\"\"\"\n",
        "EX. 04\n",
        "Crie um algoritmo que leia um número e informe na tela se o mesmo é positivo. Caso seja, mostre o número na tela;\n",
        "\"\"\"\n",
        "\n",
        "num4 = float(input('Digite um número: ')) # Coleta e guarda o valor informado\n",
        "\n",
        "if num4 >= 0:  # Primeira condicional, verifica se  o num4 é maior ou igual a 0\n",
        "    print(f'O número {num4} é positivo.')"
      ],
      "metadata": {
        "id": "i5fkOXtURRO_"
      },
      "execution_count": null,
      "outputs": []
    },
    {
      "cell_type": "code",
      "source": [
        "\"\"\"\n",
        "EXERCICIO. 05\n",
        "Crie um algoritmo que leia um número e informe se ele é divisível por 7.\n",
        "\"\"\"\n",
        "\n",
        "num5 = float(input('Digite um número: '))\n",
        "\n",
        "if (num5 % 7) == 0:  # verifica se o resto da divisão por 7 é sero\n",
        "    print('O número informado é divisível por 7.')\n",
        "else:  # Retorna a unica condicional restante possivel.\n",
        "    print('O número informado não é divisível por 7.')\n",
        "\n",
        "#poderiamos usar o pass no else, caso o número não fosse divisível\n",
        "# o pass quando executado não retorna valor, apenas evita um erro de código vazio"
      ],
      "metadata": {
        "id": "WhIH5DnERUDd"
      },
      "execution_count": null,
      "outputs": []
    },
    {
      "cell_type": "code",
      "source": [
        "\"\"\"\n",
        "EXERCICIO. 06\n",
        "Crie um algoritmo que leia um número e diga se ele é par ou ímpar.\n",
        "\"\"\"\n",
        "\n",
        "num6 = float(input('Digite um número: ')) # Coleta e guarda o valor informado\n",
        "\n",
        "if num6 % 2 == 0:  # para ser divisível o resto da divisão deve ser 0\n",
        "    print('O número informado é par.')\n",
        "else:\n",
        "    print('O número informado é impar')\n",
        "\n",
        "'''\n",
        "\n",
        "Outra forma de resolver, desconsiderando o 0\n",
        "\n",
        "num6 = float(input('Digite um número: ')) # Coleta e guarda o valor informado\n",
        "\n",
        "if num6 % 2 == 0 and num6 != 0:  # Primeira condicional, verifica se o num6 é um numero par, checando se existe resto na divisao do num6 por 2\n",
        "    print(f'O número {num6} é par.')\n",
        "elif num6 % 2 != 0 and num6 != 0:\n",
        "    print(f'O número {num6} é impar')\n",
        "else:\n",
        "    pass\n",
        "'''"
      ],
      "metadata": {
        "colab": {
          "base_uri": "https://localhost:8080/"
        },
        "id": "g1uARgQ0RW0D",
        "outputId": "7d656eea-6a19-4262-c0b8-6167475daf61"
      },
      "execution_count": null,
      "outputs": [
        {
          "output_type": "stream",
          "name": "stdout",
          "text": [
            "Digite um número: 0\n",
            "O número informado é par.\n"
          ]
        }
      ]
    },
    {
      "cell_type": "code",
      "source": [
        "\"\"\"\n",
        "EXERCICIO. 07\n",
        "Escreva um programa em Python que solicite ao usuário que digite uma letra.\n",
        "Em seguida, verifique se a letra digitada é uma vogal ou não.\n",
        "\"\"\"\n",
        "\n",
        "vogal = 'a e i o u'.split()  # string com as vogais separadas por split\n",
        "\n",
        "letra = str(input('Digite uma letra: ')).lower() # lower altera qualquer letra para minúscula\n",
        "\n",
        "if letra in vogal:  # verifica se a letra está dentro da string vogal\n",
        "    print('A letra informada é uma vogal.')\n",
        "else:  # retorna tudo o que não está na string vogal\n",
        "    print('A letra informada é uma consoante.')"
      ],
      "metadata": {
        "id": "zTfvi4FFRm1y"
      },
      "execution_count": null,
      "outputs": []
    },
    {
      "cell_type": "code",
      "source": [
        "\"\"\"\n",
        "EXERCICIO. 08\n",
        "Escreva um programa que solicite ao usuário três notas de um aluno e calcule\n",
        "a média. Em seguida, exiba a média e uma mensagem informando se o aluno foi\n",
        "aprovado (média maior ou igual a 7) ou reprovado.\n",
        "\"\"\"\n",
        "\n",
        "n1 = float(input('Informe a primeira nota: '))\n",
        "n2 = float(input('Informe a segunda nota: '))\n",
        "n3 = float(input('Informe a terceira nota: '))\n",
        "\n",
        "media = (n1 + n2 + n3) / 3  # Calcula a media das 3 notas\n",
        "\n",
        "if media >= 7:  # verifica se a media é maior ou igual a 7\n",
        "    print(f'A média do aluno é {media:.2f}, ele foi aprovado.')\n",
        "else:  # condicional restante\n",
        "    print(f'A média do aluno é {media:.2f}, ele foi reprovado.')"
      ],
      "metadata": {
        "id": "9ZzUjsF9Rp0_"
      },
      "execution_count": null,
      "outputs": []
    },
    {
      "cell_type": "code",
      "source": [
        "\"\"\"\n",
        "EXERCICIO. 09\n",
        "Escreva um programa que solicite ao usuário os comprimentos dos três lados de\n",
        "um triângulo. Em seguida, exiba uma mensagem informando se o triângulo é\n",
        "equilátero (todos os lados iguais), isósceles (dois lados iguais)\n",
        "ou escaleno (todos os lados diferentes).\n",
        "\"\"\"\n",
        "\n",
        "l1 = float(input('Digite o comprimento do primeiro lado em cm:'))\n",
        "l2 = float(input('Digite o comprimento do segundo lado em cm:'))\n",
        "l3 = float(input('Digite o comprimento do terceiro lado em cm:'))\n",
        "\n",
        "# primeiro: validar se os valores informados formam um triângulo\n",
        "\n",
        "if l1 < (l2+l3) and l2 < (l1+l3) and l3 < (l1+l2):\n",
        "    tri = True\n",
        "\n",
        "\n",
        "# verificando qual é o tipo de triangulo de acordo com a primeira validação\n",
        "\n",
        "# verifica se todos lados sao iguais\n",
        "if l1 == l2 == l3 and tri == True:\n",
        "    print('O triangulo possui todos os lados iguais, portanto é equilátero.')\n",
        "\n",
        "# verifica se existem 2 lados iguais\n",
        "elif l1 == l2 or l3 == l1 or l3 == l2 and tri == True:\n",
        "    print('O triangulo possui dois lados iguais, portanto é isósceles.')\n",
        "\n",
        "# verifica se os três lados são diferentes\n",
        "elif l1 != l2 != l3 and tri == True:\n",
        "    print('O triangulo possui os 3 lados diferentes, portanto é escaleno.')\n",
        "\n",
        "#caso nenhuma condição acima seja atendida\n",
        "else:\n",
        "    print('Os valores informados não formam um triângulo')\n"
      ],
      "metadata": {
        "id": "fIbxSPZ4RyK0",
        "colab": {
          "base_uri": "https://localhost:8080/"
        },
        "outputId": "a8942b7d-806f-46ee-8237-6643c1b06d62"
      },
      "execution_count": null,
      "outputs": [
        {
          "output_type": "stream",
          "name": "stdout",
          "text": [
            "Digite o comprimento do primeiro lado em cm:9\n",
            "Digite o comprimento do segundo lado em cm:1\n",
            "Digite o comprimento do terceiro lado em cm:0\n",
            "Os valores informados não formam um triângulo\n"
          ]
        }
      ]
    },
    {
      "cell_type": "code",
      "source": [
        "\"\"\"\n",
        "EXERCICIO. 10\n",
        "Escreva um programa que solicite ao usuário sua idade e exiba uma mensagem\n",
        "informando em qual faixa etária ele se encontra: criança (0-12 anos),\n",
        "adolescente (13-17 anos), adulto (18-59 anos) ou idoso (60 anos ou mais).\n",
        "\"\"\"\n",
        "\n",
        "idade = int(input('Digite sua idade: '))\n",
        "\n",
        "if 0 <= idade <= 12:  # idade maior ou igual a zero e menor ou igual a 12\n",
        "    print('Você é uma criança.')\n",
        "elif 13 <= idade <= 17: # idade maior ou igual a 13 e menor ou igual a 17\n",
        "    print('Você é um adolescente.')\n",
        "elif 18 <= idade <= 59: # idade maior ou igual a 18 e menor ou igual a 59\n",
        "    print('Você é um adulto.')\n",
        "else:\n",
        "    print('Você é um idoso.')"
      ],
      "metadata": {
        "id": "klaS7NiXS1_I"
      },
      "execution_count": null,
      "outputs": []
    },
    {
      "cell_type": "code",
      "source": [
        "'''\n",
        "EXERCÍCIO 11.\n",
        "faça um programa que peça um nome e procure o nome do usuario em uma lista.\n",
        "Calculo o IMC da pessoa caso o nome esteja na lista, a partir do peso e altura.\n",
        "Se o nome não estiver no banco de nados, encerre o programa.\n",
        "\n",
        "'''\n",
        "\n",
        "nome_lista = ['Joana', 'Carlos', 'Maria', 'Diego']\n",
        "altura = [1.71, 1.65, 1.80, 1.75]\n",
        "peso = [55,45,53,80]\n",
        "\n",
        "name = input('Digite seu nome: ').capitalize() # conertendo nomes para inicialização com letra maiuscula\n",
        "\n",
        "\n",
        "if name in nome_lista: # checar se o nome está na lista\n",
        "    ind = nome_lista.index(name) #  se o nome estiver na lista, achar o índice do nome na lista\n",
        "    print(f'{nome_lista[ind]} você está na lista!')\n",
        "    print(f'Seu IMC é: {peso[ind]/altura[ind]**2:.2f}')\n",
        "else:\n",
        "    print(f'{name} você não está na lista')\n"
      ],
      "metadata": {
        "colab": {
          "base_uri": "https://localhost:8080/"
        },
        "id": "ORLHT3ruXjka",
        "outputId": "e5ad6e5b-2732-4f71-b80c-491833b48735"
      },
      "execution_count": null,
      "outputs": [
        {
          "output_type": "stream",
          "name": "stdout",
          "text": [
            "Digite seu nome: Joana\n",
            "Joana você está na lista!\n",
            "Seu IMC é: 18.81\n"
          ]
        }
      ]
    },
    {
      "cell_type": "code",
      "source": [
        "'''1 - Crie um script que receba do usuário uma lista de n números inteiros digitados pelo\n",
        "usuário na mesma caixa de entrada separados por espaços e após isso utilize o método\n",
        "split para separar esses números e armazená-los em uma lista acesse o índice 0 dessa\n",
        "nova lista e verifique seu tipo e caso seja o tipo inteiro imprima para o usuário a seguinte\n",
        "mensagem: este valor é do tipo inteiro, caso contrário imprima: este valor não é do tipo\n",
        "inteiro.\n",
        "'''\n",
        "\n",
        "# os números inseridos nesse input são considerados str\n",
        "lista_ = input('Digite uma sequencia com números inteiros: ')\n",
        "\n",
        "# separar os numeros e armazená-los em lista\n",
        "nova_lista = lista_.split()\n",
        "\n",
        "# verificando se o dado na posição 0 é inteiro ou não\n",
        "\n",
        "if type(nova_lista[0]) == int:\n",
        "    print('este valor é do tipo inteiro')\n",
        "else:\n",
        "    print('este valor não é do tipo inteiro')\n"
      ],
      "metadata": {
        "colab": {
          "base_uri": "https://localhost:8080/"
        },
        "id": "H2kCqDkG9dyH",
        "outputId": "4936b5a9-2a3d-4c91-da4e-0a4587c217a8"
      },
      "execution_count": null,
      "outputs": [
        {
          "output_type": "stream",
          "name": "stdout",
          "text": [
            "Digite uma sequencia com números inteiros: 1 2 3\n",
            "['1', '2', '3']\n",
            "este valor não é do tipo inteiro\n"
          ]
        }
      ]
    },
    {
      "cell_type": "code",
      "source": [
        "'''\n",
        "2 - Crie um script que aproveite a lista utilizada para imprimir a mensagem do exercício\n",
        "anterior e utilize uma estrutura for que percorra toda a lista e faça a tipagem de cada\n",
        "valor como inteiro, após isso acesse o índice 0 dessa nova lista e verifique seu tipo e\n",
        "caso seja o tipo inteiro imprima para o usuário a seguinte mensagem: este valor é do\n",
        "tipo inteiro, caso contrário imprima: este valor não é do tipo inteiro.'''\n",
        "\n",
        "lista_ = input('Digite uma sequencia com números inteiros: ')\n",
        "\n",
        "nova_lista = lista_.split()\n",
        "\n",
        "# para cada item na lista de str nova_lista, transformaremos cada item em inteiro\n",
        "\n",
        "# armazenaremos os itens inteoros na lista l\n",
        "\n",
        "l = [int(i) for i in nova_lista]\n",
        "\n",
        "print(l)\n",
        "\n",
        "# verificando se o valor no índice 0 é inteiro ou não\n",
        "\n",
        "if type(l[0]) == int:\n",
        "    print('Este valor é do tipo inteiro')\n",
        "else:\n",
        "    print('Este valor é do tipo float')\n",
        "\n"
      ],
      "metadata": {
        "id": "VvsnetIHHQWr",
        "colab": {
          "base_uri": "https://localhost:8080/"
        },
        "outputId": "75c8cef4-cf07-456a-89d2-fe9b7d1c533f"
      },
      "execution_count": null,
      "outputs": [
        {
          "output_type": "stream",
          "name": "stdout",
          "text": [
            "[1, 2, 3]\n",
            "Este valor é do tipo inteiro\n"
          ]
        }
      ]
    },
    {
      "cell_type": "code",
      "source": [
        "'''3 - Utilizando a lista tipada como int do exercício 2, faça um print que exiba a soma de\n",
        "todos os valores dessa lista.'''\n",
        "\n",
        "lista_ = input('Digite uma sequencia com números inteiros: ')\n",
        "\n",
        "nova_lista = lista_.split()\n",
        "\n",
        "l = [int(i) for i in nova_lista]\n",
        "\n",
        "soma = sum(l) # somando todos os valores da lista l\n",
        "\n",
        "print(f'A soma dos valores da lista é: {soma}')\n"
      ],
      "metadata": {
        "colab": {
          "base_uri": "https://localhost:8080/"
        },
        "id": "N3T8spXzIq_r",
        "outputId": "62570d03-7bcc-4ff1-f7a3-b4f6e749d9f0"
      },
      "execution_count": null,
      "outputs": [
        {
          "output_type": "stream",
          "name": "stdout",
          "text": [
            "Digite uma sequencia com números inteiros: 1 2 3\n",
            "A soma dos valores da lista é: 6\n"
          ]
        }
      ]
    },
    {
      "cell_type": "code",
      "source": [
        "'''4 - Crie uma lista vazia denominada quadrados e utilizando a lista tipada como int do\n",
        "exercício 2, faça uma estrutura do tipo for que percorra cada elemento dessa lista de\n",
        "números inteiros, eleve cada valor encontrado ao quadrado e insira cada resultado na\n",
        "lista quadrados e ao final exiba a soma dos valores da lista quadrados.'''\n",
        "\n",
        "lista_ = input('Digite uma sequencia com números inteiros: ')\n",
        "\n",
        "nova_lista = lista_.split()\n",
        "\n",
        "l = [int(i) for i in nova_lista]\n",
        "\n",
        "quadrados = []\n",
        "\n",
        "# iterando por cada item na lista l\n",
        "for i in l:\n",
        "    q = i**2 # elevando cada valor da lista ao quadrado\n",
        "    quadrados.append(q) # inserindo esses itens na lista quadrados\n",
        "\n",
        "somando = sum(quadrados) #somando os itens da lista quadrados\n",
        "\n",
        "print(f'Lista dos valores ao quadrado: {quadrados}')\n",
        "print(f'Soma dos valores da lista quadrados:{somando}')\n"
      ],
      "metadata": {
        "colab": {
          "base_uri": "https://localhost:8080/"
        },
        "id": "TDd1aeVaUEm6",
        "outputId": "be20c61f-9eb1-42d2-a3da-cfb8934321c6"
      },
      "execution_count": null,
      "outputs": [
        {
          "output_type": "stream",
          "name": "stdout",
          "text": [
            "Digite uma sequencia com números inteiros: 1 2 3\n",
            "Lista dos valores ao quadrado: [1, 4, 9]\n",
            "Soma dos valores da lista quadrados:14\n"
          ]
        }
      ]
    },
    {
      "cell_type": "code",
      "source": [
        "'''5 - Crie um programa que receba do usuário duas listas de n números inteiros digitados\n",
        "pelo usuário separados por espaços e após isso utilize o método split para dividir cada\n",
        "lista gerando duas novas listas chamadas x e y é importante deixar claro para o usuário\n",
        "que as duas listas digitadas devem ter a mesma quantidade de números digitados\n",
        "independente de quantos sejam. Após isso, faça a tipagem de todos os números das\n",
        "duas listas como float, então crie três novas listas vazias: xquad, yquad e xy. Agora\n",
        "preencha a lista xquad com cada elemento da lista x elevado ao quadrado, depois faça\n",
        "o mesmo para yquad, elevando cada elemento de y ao quadrado e por último preencha\n",
        "a lista xy fazendo a multiplicação de cada valor da lista x pelo seu correspondente na\n",
        "lista y. No final crie a variável sx que recebe a soma dos valores da lista x, a variável sy\n",
        "que recebe a soma dos valores da lista y, a variável sxquad, que recebe a soma da lista\n",
        "xquad, a variável syquad que recebe a soma da lista de yquad e a variável sxy que\n",
        "recebe a soma da lista de xy e no final imprima todas as variáveis de soma criadas.'''\n",
        "\n",
        "inte1 = input()\n",
        "inte2 = input()\n",
        "\n",
        "# inserindo os valores recebidos do usuário dentro de listas\n",
        "x = inte1.split()\n",
        "y = inte2.split()\n",
        "\n",
        "\n",
        "# caso o usuário insira mais numeros em uma lista se comparado com a outra\n",
        "if len(inte1) > len(inte2) or len(inte2) > len(inte1):\n",
        "    print('As listas devem ter a mesma quantidade de números!')\n",
        "    inte1 = input()\n",
        "    inte2 = input()\n",
        "\n",
        "\n",
        "# transformado cada valor da lista x e y em float, que será usado para os cálculos a seguir\n",
        "f1 = [float(i) for i in x]\n",
        "f2 = [float(i) for i in y]\n",
        "\n",
        "# criando novas listas para receber novos vaores\n",
        "xquad = []\n",
        "yquad = []\n",
        "xy = []\n",
        "\n",
        "# como as listas tem o mesmo tamanho, podemos usar um for para percorrer todas, com base no tamanho\n",
        "\n",
        "for i in range(len(f1)): # percorre cada valor na contagem do tamanho de x\n",
        "    xquad.append(f1[i]**2) # insere os valores ao quadrado na lista xquad\n",
        "    yquad.append(f2[i]**2) # insere os valores ao quadrado na lista yquad\n",
        "    xy.append(f1[i]*f2[i]) # multiplica cada valor de cada lista um pelo outro e insere em xy\n",
        "\n",
        "# realizando a soma de cada lista\n",
        "sx = sum(f1)\n",
        "sy = sum(f2)\n",
        "sxquad = sum(xquad)\n",
        "syquad = sum(yquad)\n",
        "sxy = sum(xy)\n",
        "\n",
        "# imprimindo cada soma\n",
        "\n",
        "print(sx)\n",
        "print(sy)\n",
        "print(sxquad)\n",
        "print(syquad)\n",
        "print(sxy)\n",
        "\n",
        "\n",
        "\n",
        "\n",
        "\n",
        "\n",
        "\n"
      ],
      "metadata": {
        "colab": {
          "base_uri": "https://localhost:8080/"
        },
        "id": "xqtytCtYVC_J",
        "outputId": "260fb869-2f68-4b19-a8b9-25e014c1bd40"
      },
      "execution_count": null,
      "outputs": [
        {
          "output_type": "stream",
          "name": "stdout",
          "text": [
            "1 2 3\n",
            "3 4 6\n",
            "[1.0, 4.0, 9.0]\n",
            "[9.0, 16.0, 36.0]\n",
            "[3.0, 8.0, 18.0]\n",
            "6.0\n",
            "13.0\n",
            "14.0\n",
            "61.0\n",
            "29.0\n"
          ]
        }
      ]
    },
    {
      "cell_type": "code",
      "source": [
        "# ECERCÍCIOS DE FUNÇÃO\n",
        "\n",
        "\"\"\"\n",
        "Elabore uma funcao que receba em cinco inputs diferentes as seguintes informacoes:\n",
        "1 - receita liquida em reais\n",
        "2 - custo em reais\n",
        "3 - estoques em reais\n",
        "4 - contas a receber em reais\n",
        "5 - fornecedores em reais\n",
        "6 - o numero de dias do balanco : 30 ou 60 ou 90\n",
        "\n",
        "apos receber as infos acima, a funcao deve calcular o valor e printa lo dos seguintes kpis:\n",
        "a) prazo medio de estoques - pme\n",
        "b) prazo medio de recebimento - pmr\n",
        "c) prazo medio de pagamento - pmp\n",
        "d) ciclo operacional - co\n",
        "e) ciclo de caixa - cc\n",
        "\n",
        "e por ultimo se pmp for maior que co print a mensagem essa empresa em media\n",
        "paga tantos dias depois de receber\n",
        "\n",
        "se  pmp for menor que CO print a mensagem em media empresa paga tantos dias\n",
        "antes de receber\n",
        "\n",
        "se pmp for igual ao co print essa empresa paga no mesmo dia q recebe\n",
        "\n",
        "considere\n",
        "\"\"\"\n",
        "\n",
        "def funcao():\n",
        "    receita_liquida = float(input('Informe a receita liquida em reais: '))\n",
        "    custo = float(input('Informe o custo em reais: '))\n",
        "    estoque = float(input('Informe o estoque em reais: '))\n",
        "    contas_rec = float(input('Informe contas a receber em reais: '))\n",
        "    fornecedores = float(input('Informe os fornecedores em reais: '))\n",
        "    dias = int(input('Informe o período de dias do balanço: '))\n",
        "    pme = estoque/custo * dias\n",
        "    pmr = contas_rec/receita_liquida * dias\n",
        "    pmp = fornecedores/custo * dias\n",
        "    co = pme + pmr\n",
        "    cc = co - pmp\n",
        "\n",
        "    print(f'O prazo médio de estoque é: {pme:.0f}')\n",
        "    print(f'O prazo médio de rendimento é: {pmr:.0f}')\n",
        "    print(f'O prazo médio pagamento é: {pmp:.0f}')\n",
        "    print(f'O ciclo operacional é aprox.: {co:.0f}')\n",
        "    print(f'O ciclo de caixa é: {cc:.0f}')\n",
        "\n",
        "    if pmp > co:\n",
        "        print(f'A empresa paga em media {abs(cc):.0f} dias apos receber.')\n",
        "    elif pmp < co:\n",
        "        print(f'A empresa paga em media {abs(cc):.0f} dias antes receber.')\n",
        "    else:\n",
        "        print(f'A empresa paga no mesmo dia que ela recebe.')\n",
        "\n",
        "funcao()\n",
        "\n",
        "lista = []\n",
        "\n",
        "def funcao1():\n",
        "    while True:\n",
        "        try:\n",
        "            numeros = input(\"Digite os números da lista, separados por espaços: \").split()\n",
        "            numeros = [float(numero) for numero in numeros]\n",
        "\n",
        "\n",
        "            for num in numeros:\n",
        "\n",
        "                lista.append(num)\n",
        "\n",
        "            print('Lista validada com sucesso!')\n",
        "\n",
        "            media = sum(lista)/len(lista)  # calcula a média\n",
        "            print(f'A média aritmética da lista 1 é: {media:.2f}')\n",
        "\n",
        "            if len(lista) > 1:\n",
        "                n1 = len(lista)  # Contando a quantidade de dados\n",
        "                variancia = sum((x - media) ** 2 for x in lista) / n1  # Usando a fórmula da variância\n",
        "                print(f'A variância da lista 1 é: {variancia:.2f}')  # Retorna a variância\n",
        "            else:\n",
        "                print('A lista 1 não possui variancia.')\n",
        "\n",
        "            if len(lista) > 1:\n",
        "                desvio_padrao = variancia ** 0.5\n",
        "                print(f'O desvio padrão da lista 1 é {desvio_padrao:.2f}')\n",
        "            else:\n",
        "                print('A lista 1 não possui desvio padrão')\n",
        "            break\n",
        "        except:\n",
        "            print('Digite apenas numeros, separados por espaços. Reinicie o programa e tente novamente.')\n",
        "            break\n",
        "\n",
        "funcao1()"
      ],
      "metadata": {
        "id": "iNS-NPt83S6e"
      },
      "execution_count": null,
      "outputs": []
    }
  ]
}